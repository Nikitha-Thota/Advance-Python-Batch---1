{
 "cells": [
  {
   "cell_type": "code",
   "execution_count": null,
   "metadata": {},
   "outputs": [],
   "source": [
    "#Find all occurances of given object in the list"
   ]
  },
  {
   "cell_type": "code",
   "execution_count": 13,
   "metadata": {},
   "outputs": [
    {
     "name": "stdout",
     "output_type": "stream",
     "text": [
      "[2, 3, 4, 3, 5, 6, 2, 3, 4, 6]\n",
      "[1, 3, 7]\n"
     ]
    }
   ],
   "source": [
    "list1 = [2, 3, 4, 3, 5, 6, 2, 3, 4, 6]\n",
    "print(list1)\n",
    "indices = []\n",
    "for i in range(len(list1)):\n",
    "    \n",
    "    if list1[i] == 3:\n",
    "        indices.append(i)\n",
    "\n",
    "print(indices)"
   ]
  },
  {
   "cell_type": "code",
   "execution_count": 14,
   "metadata": {},
   "outputs": [],
   "source": [
    "# Question III print sum of elements in the object in the sorted order"
   ]
  },
  {
   "cell_type": "code",
   "execution_count": 22,
   "metadata": {},
   "outputs": [
    {
     "name": "stdout",
     "output_type": "stream",
     "text": [
      "[(1, 5), (9, 1), (10, 4), (10, 4), (90, 3)]\n"
     ]
    }
   ],
   "source": [
    "list2 = [(10,4),(90,3),(9,1),(10,4),(1,5)]\n",
    "\n",
    "def fun1(x):\n",
    "       return x[0] +x[1]\n",
    "\n",
    "list2.sort(key=fun1)\n",
    "print(list2)"
   ]
  },
  {
   "cell_type": "code",
   "execution_count": 27,
   "metadata": {},
   "outputs": [],
   "source": [
    "# Question I "
   ]
  },
  {
   "cell_type": "code",
   "execution_count": 29,
   "metadata": {},
   "outputs": [
    {
     "name": "stdout",
     "output_type": "stream",
     "text": [
      "['192.168.10.09', '192.168.10.11', '192.168.10.35', '192.168.10.4']\n"
     ]
    }
   ],
   "source": [
    "list3 = [\"192.168.10.09\", \"192.168.10.4\", \"192.168.10.11\", \"192.168.10.35\"]\n",
    "\n",
    "list3.sort()\n",
    "print(list3)"
   ]
  },
  {
   "cell_type": "code",
   "execution_count": 35,
   "metadata": {},
   "outputs": [],
   "source": [
    "ip_list = [\"192.168.10.09\", \"192.168.10.4\", \"192.168.10.11\", \"192.168.10.35\"]\n",
    "\n",
    "def sorted_ip_list(ip_list, unique=False):\n",
    "    if unique:\n",
    "        ip_list = list(set(ip_list))\n",
    "        return sorted(ip_list, key=lambda ip: (\n",
    "            int(ip.split(\".\")[0]),\n",
    "            int(ip.split(\".\")[1]),\n",
    "            int(ip.split(\".\")[2]),\n",
    "            int(ip.split(\".\")[3].split(':')[0]),\n",
    "            int(ip.split(\":\")[1]) if \":\" in ip else 0\n",
    "        ))\n",
    "    ip_list.sort(key=sorted_ip_list)\n",
    "    print(ip_list)"
   ]
  },
  {
   "cell_type": "code",
   "execution_count": 37,
   "metadata": {},
   "outputs": [],
   "source": [
    "# Question II"
   ]
  },
  {
   "cell_type": "code",
   "execution_count": 40,
   "metadata": {},
   "outputs": [
    {
     "name": "stdout",
     "output_type": "stream",
     "text": [
      "[1, 2, 3, 2, 3, 1, 24, 1, 3, 1, 1, 21, 1, 2, 45, 0, 0, 0, 0, 0, 0]\n"
     ]
    }
   ],
   "source": [
    "def move_zero(num_list):\n",
    "    a = [0 for i in range(num_list.count(0))]\n",
    "    x = [ i for i in num_list if i != 0]\n",
    "    x.extend(a)\n",
    "    return(x)\n",
    "\n",
    "print(move_zero([1,2,3,0,2,3,0,1,24,0,1,3,1,0,1,21,0,1,2,0,45]))\n"
   ]
  }
 ],
 "metadata": {
  "kernelspec": {
   "display_name": "Python 3",
   "language": "python",
   "name": "python3"
  },
  "language_info": {
   "codemirror_mode": {
    "name": "ipython",
    "version": 3
   },
   "file_extension": ".py",
   "mimetype": "text/x-python",
   "name": "python",
   "nbconvert_exporter": "python",
   "pygments_lexer": "ipython3",
   "version": "3.8.3"
  }
 },
 "nbformat": 4,
 "nbformat_minor": 4
}
