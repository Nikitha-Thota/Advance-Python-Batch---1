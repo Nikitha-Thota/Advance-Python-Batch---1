{
 "cells": [
  {
   "cell_type": "markdown",
   "metadata": {},
   "source": [
    "# Day 5 #Question 1"
   ]
  },
  {
   "cell_type": "code",
   "execution_count": null,
   "metadata": {},
   "outputs": [],
   "source": [
    "import math\n",
    "\n",
    "notInfiltrator = []\n",
    "allMembers = []\n",
    "temp = []\n",
    "\n",
    "def findShieldMembers(sender, rec):\n",
    "    #print \"in the function!\"\n",
    "    if(sender == 'Nick Fury' and (sender and rec) not in notInfiltrator and not \" \"):\n",
    "        notInfiltrator.append(sender)\n",
    "        notInfiltrator.append(rec)\n",
    "        #print(\"Here2\")\n",
    "        \n",
    "    elif(sender in notInfiltrator and rec not in notInfiltrator and not \" \"):\n",
    "        notInfiltrator.append(rec)\n",
    "        #print(\"Here1\")\n",
    "        for i in temp:\n",
    "          #print(i['sender'])\n",
    "          if(rec in notInfiltrator and rec == i['sender']):\n",
    "            #print (\"In the if statement\")\n",
    "            if(i['rec'] not in notInfiltrator and not \" \"):\n",
    "                notInfiltrator.append(i['rec'])\n",
    "    else:\n",
    "        temp.append({'sender':sender, 'rec':rec})\n",
    "        #print(\"Here\")\n",
    "    \n",
    "def addAllMembers(m1, m2):\n",
    "    allMembers.append(m1)\n",
    "    allMembers.append(m2)\n",
    "\n",
    "def findInfiltrators(shield, allMem):\n",
    "    return list(set(allMem) - set(shield))\n",
    "\n",
    "def inputSender():\n",
    "    sender = raw_input(\"Who is the sender? \")\n",
    "    for i in range(0,3):\n",
    "        rec = raw_input(\"\\n Who is the receiver No.\"+str(i+1)+\"? \")\n",
    "        print(rec)\n",
    "        findShieldMembers(sender, rec)\n",
    "        addAllMembers(sender, rec)  \n",
    "        \n",
    "    main()\n",
    "        \n",
    "def main():\n",
    "    print (\"Welcome to Shield Vs. Hydra Algorithm\\n\")\n",
    "    answer = raw_input('Should we start this algorithm? ')\n",
    "    if(answer == \"yes\"):\n",
    "        inputSender();\n",
    "    elif(answer == \"no\"):\n",
    "        choice = raw_input('Should we give you the result? ')\n",
    "        if (choice == 'yes'):\n",
    "            traitors = findInfiltrators(notInfiltrator, allMembers)\n",
    "            print(\"\\nTraitors: \")\n",
    "            for i in traitors:\n",
    "                print (i)\n",
    "    return\n",
    "\n",
    "main()"
   ]
  }
 ],
 "metadata": {
  "kernelspec": {
   "display_name": "Python 3",
   "language": "python",
   "name": "python3"
  }
 },
 "nbformat": 4,
 "nbformat_minor": 4
}
