{
 "cells": [
  {
   "cell_type": "markdown",
   "metadata": {},
   "source": [
    "# Day 7 # Question 1"
   ]
  },
  {
   "cell_type": "code",
   "execution_count": 1,
   "metadata": {},
   "outputs": [
    {
     "name": "stdout",
     "output_type": "stream",
     "text": [
      "Elements in Orignal List3\n",
      "10 20 30 40 50 5 15 25 35 45 60 \n",
      "Elements of array sorted in ascending order: \n",
      "5 10 15 20 25 30 35 40 45 50 60 "
     ]
    }
   ],
   "source": [
    "list1 = [10,20,30,40,50] \n",
    "list2 = [5,15,25,35,45,60]\n",
    "list3 = list1+list2\n",
    "temp=0\n",
    "\n",
    "#printing elements in list3\n",
    "print(\"Elements in Orignal List3\")\n",
    "for i in range(0, len(list3)):\n",
    "    print(list3[i], end=\" \")\n",
    "    \n",
    "#sort the list3 in ascending order\n",
    "for i in range(0, len(list3)):\n",
    "    for j in range(i+1, len(list3)):\n",
    "        if(list3[i]>list3[j]):\n",
    "            temp = list3[i]\n",
    "            list3[i] = list3[j]\n",
    "            list3[j] = temp\n",
    "print()\n",
    "\n",
    "#displaying elements of the list3 after sorting\n",
    "print(\"Elements of array sorted in ascending order: \")\n",
    "for i in range(0, len(list3)):\n",
    "    print(list3[i], end=\" \")\n",
    "    "
   ]
  }
 ],
 "metadata": {
  "kernelspec": {
   "display_name": "Python 3",
   "language": "python",
   "name": "python3"
  },
  "language_info": {
   "codemirror_mode": {
    "name": "ipython",
    "version": 3
   },
   "file_extension": ".py",
   "mimetype": "text/x-python",
   "name": "python",
   "nbconvert_exporter": "python",
   "pygments_lexer": "ipython3",
   "version": "3.8.3"
  }
 },
 "nbformat": 4,
 "nbformat_minor": 4
}
